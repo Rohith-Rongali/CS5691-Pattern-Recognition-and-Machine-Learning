{
 "cells": [
  {
   "cell_type": "code",
   "execution_count": 33,
   "id": "8a1b391b-cc0b-466f-aaea-01accb1b06b7",
   "metadata": {},
   "outputs": [],
   "source": [
    "import numpy as np\n",
    "import matplotlib.pyplot as plt"
   ]
  },
  {
   "cell_type": "code",
   "execution_count": 34,
   "id": "b59af66b-711e-49a2-b72e-51ee95bce069",
   "metadata": {},
   "outputs": [],
   "source": [
    "fn1 = \"1d_team_21_train.txt\"\n",
    "fn2 = \"2d_team_21_train.txt\"\n",
    "file1= open(fn1)\n",
    "data1=np.array([[float(lines.split()[0]),float(lines.split()[1])] for lines in file1.readlines()])\n",
    "X1=data[:,0]\n",
    "Y1=data[:,1]"
   ]
  },
  {
   "cell_type": "code",
   "execution_count": 59,
   "id": "0d6bc590-ea64-4823-ae28-ad884ff60868",
   "metadata": {},
   "outputs": [
    {
     "data": {
      "text/plain": [
       "array([ 0.29762748, -2.97490263])"
      ]
     },
     "execution_count": 59,
     "metadata": {},
     "output_type": "execute_result"
    }
   ],
   "source": [
    "N=50\n",
    "index = np.random.choice(X1.shape[0],N,replace=False)\n",
    "X=X1[index]\n",
    "Y=Y1[index]\n",
    "\n",
    "def poly(x,degree):\n",
    "    return np.array([x**i for i in range(degree+1)])\n",
    "\n",
    "def regression(X,Y,m):\n",
    "    A=np.array([poly(x,m) for x in X])\n",
    "    return np.linalg.lstsq(A,Y,rcond=None)[0]\n",
    "\n"
   ]
  },
  {
   "cell_type": "code",
   "execution_count": null,
   "id": "2a81d8e1-2d18-4a31-9c25-ef905ce1b055",
   "metadata": {},
   "outputs": [],
   "source": []
  }
 ],
 "metadata": {
  "kernelspec": {
   "display_name": "Python 3",
   "language": "python",
   "name": "python3"
  },
  "language_info": {
   "codemirror_mode": {
    "name": "ipython",
    "version": 3
   },
   "file_extension": ".py",
   "mimetype": "text/x-python",
   "name": "python",
   "nbconvert_exporter": "python",
   "pygments_lexer": "ipython3",
   "version": "3.9.7"
  }
 },
 "nbformat": 4,
 "nbformat_minor": 5
}
